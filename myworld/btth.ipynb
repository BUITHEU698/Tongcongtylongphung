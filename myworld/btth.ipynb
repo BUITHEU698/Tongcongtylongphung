{
 "cells": [
  {
   "cell_type": "code",
   "execution_count": 4,
   "metadata": {},
   "outputs": [],
   "source": [
    "n,m,c = map(int, input().split())\n",
    "mt1 = [list(map(str, input().split())) for i in range(n)]\n",
    "c = input()\n",
    "check = c[0]"
   ]
  },
  {
   "cell_type": "code",
   "execution_count": 35,
   "metadata": {},
   "outputs": [
    {
     "data": {
      "text/plain": [
       "\"['....................**......................']\""
      ]
     },
     "execution_count": 35,
     "metadata": {},
     "output_type": "execute_result"
    }
   ],
   "source": [
    "mt2[1]"
   ]
  },
  {
   "cell_type": "code",
   "execution_count": 20,
   "metadata": {},
   "outputs": [
    {
     "ename": "IndexError",
     "evalue": "list index out of range",
     "output_type": "error",
     "traceback": [
      "\u001b[1;31m---------------------------------------------------------------------------\u001b[0m",
      "\u001b[1;31mIndexError\u001b[0m                                Traceback (most recent call last)",
      "\u001b[1;32m~\\AppData\\Local\\Temp/ipykernel_14064/3706558.py\u001b[0m in \u001b[0;36m<module>\u001b[1;34m\u001b[0m\n\u001b[0;32m      3\u001b[0m \u001b[1;32mfor\u001b[0m \u001b[0mi\u001b[0m \u001b[1;32min\u001b[0m \u001b[0mrange\u001b[0m\u001b[1;33m(\u001b[0m\u001b[0mn\u001b[0m\u001b[1;33m)\u001b[0m\u001b[1;33m:\u001b[0m\u001b[1;33m\u001b[0m\u001b[1;33m\u001b[0m\u001b[0m\n\u001b[0;32m      4\u001b[0m     \u001b[1;32mfor\u001b[0m \u001b[0mj\u001b[0m \u001b[1;32min\u001b[0m \u001b[0mrange\u001b[0m\u001b[1;33m(\u001b[0m\u001b[0mm\u001b[0m\u001b[1;33m)\u001b[0m\u001b[1;33m:\u001b[0m\u001b[1;33m\u001b[0m\u001b[1;33m\u001b[0m\u001b[0m\n\u001b[1;32m----> 5\u001b[1;33m         \u001b[0marr\u001b[0m \u001b[1;33m=\u001b[0m \u001b[0marr\u001b[0m \u001b[1;33m+\u001b[0m \u001b[0mstr\u001b[0m\u001b[1;33m(\u001b[0m\u001b[0mmt2\u001b[0m\u001b[1;33m[\u001b[0m\u001b[0mi\u001b[0m\u001b[1;33m]\u001b[0m\u001b[1;33m[\u001b[0m\u001b[0mj\u001b[0m\u001b[1;33m]\u001b[0m\u001b[1;33m)\u001b[0m \u001b[1;33m+\u001b[0m \u001b[1;34m' '\u001b[0m\u001b[1;33m\u001b[0m\u001b[1;33m\u001b[0m\u001b[0m\n\u001b[0m\u001b[0;32m      6\u001b[0m \u001b[1;33m\u001b[0m\u001b[0m\n\u001b[0;32m      7\u001b[0m \u001b[0mn2\u001b[0m\u001b[1;33m=\u001b[0m \u001b[1;36m0\u001b[0m\u001b[1;33m\u001b[0m\u001b[1;33m\u001b[0m\u001b[0m\n",
      "\u001b[1;31mIndexError\u001b[0m: list index out of range"
     ]
    }
   ],
   "source": [
    "mt2= mt1\n",
    "arr = ''\n",
    "for i in range(n):\n",
    "        arr = arr + str(mt2[i]) + ' '\n",
    "\n",
    "n2= 0\n",
    "n3 = m*2\n",
    "for j in range(n):\n",
    "    print(arr[n2:n3])\n",
    "    n2 = n3\n",
    "    n3 = n3 + m*2"
   ]
  },
  {
   "cell_type": "code",
   "execution_count": 19,
   "metadata": {},
   "outputs": [
    {
     "data": {
      "text/plain": [
       "0"
      ]
     },
     "execution_count": 19,
     "metadata": {},
     "output_type": "execute_result"
    }
   ],
   "source": [
    "list.insert(0, 'Z')"
   ]
  },
  {
   "cell_type": "code",
   "execution_count": null,
   "metadata": {},
   "outputs": [],
   "source": [
    "n,m,c = map(int, input().split())\n",
    "mt1 = [list(map(str, input().split())) for i in range(n)]\n",
    "c = input()\n",
    "check = c[0]\n",
    "for item in range(c):\n",
    "    if check == \"L\":\n",
    "        \n",
    "        \n",
    "    \n"
   ]
  },
  {
   "cell_type": "code",
   "execution_count": null,
   "metadata": {},
   "outputs": [],
   "source": []
  },
  {
   "cell_type": "code",
   "execution_count": null,
   "metadata": {},
   "outputs": [],
   "source": [
    "mt1, mt2, (t, l, b, r )"
   ]
  },
  {
   "cell_type": "code",
   "execution_count": 14,
   "metadata": {},
   "outputs": [],
   "source": [
    "n, m = map(int, input().split())\n",
    "mt1 = [list(map(int, input().split())) for i in range(n)]\n",
    "t, l, b, r = map(int, input().split())"
   ]
  },
  {
   "cell_type": "code",
   "execution_count": 15,
   "metadata": {},
   "outputs": [
    {
     "data": {
      "text/plain": [
       "[[0, 1, 0, 0], [1, 1, 1, 0], [0, 1, 1, 0]]"
      ]
     },
     "execution_count": 15,
     "metadata": {},
     "output_type": "execute_result"
    }
   ],
   "source": [
    "n, m = map(int, input().split())\n",
    "mt1 = [list(map(int, input().split())) for i in range(n)]\n",
    "t, l, b, r = map(int, input().split())\n",
    "def FunctionName(mt2, n, m):\n",
    "    for i in range(n):\n",
    "        for j in range(m):\n",
    "            if i < t:\n",
    "                mt2[i][j]= 0\n",
    "            elif i >=t  and  i <= b :\n",
    "                if j < l or j>r:\n",
    "                    mt2[i][j]= 0\n",
    "            elif i > b :\n",
    "                mt2[i][j]= 0\n",
    "    return(mt2)\n",
    "mt2 = FunctionName(mt1, n , m)\n",
    "# for item in range:\n",
    "\n",
    "list(mt2)\n",
    "     \n",
    "    "
   ]
  },
  {
   "cell_type": "code",
   "execution_count": 16,
   "metadata": {},
   "outputs": [
    {
     "data": {
      "text/plain": [
       "[[0, 1, 0, 0], [1, 1, 1, 0], [0, 1, 1, 0]]"
      ]
     },
     "execution_count": 16,
     "metadata": {},
     "output_type": "execute_result"
    }
   ],
   "source": [
    "list(mt2)"
   ]
  },
  {
   "cell_type": "code",
   "execution_count": 49,
   "metadata": {},
   "outputs": [],
   "source": [
    "n = 3"
   ]
  },
  {
   "cell_type": "code",
   "execution_count": 43,
   "metadata": {},
   "outputs": [
    {
     "data": {
      "text/plain": [
       "'010011100110'"
      ]
     },
     "execution_count": 43,
     "metadata": {},
     "output_type": "execute_result"
    }
   ],
   "source": [
    "arr"
   ]
  },
  {
   "cell_type": "code",
   "execution_count": 60,
   "metadata": {},
   "outputs": [
    {
     "name": "stdout",
     "output_type": "stream",
     "text": [
      "0 1 0 0 \n",
      "1 1 1 0 \n",
      "0 1 1 0 \n"
     ]
    }
   ],
   "source": [
    "n, m = map(int, input().split())\n",
    "mt1 = [list(map(int, input().split())) for i in range(n)]\n",
    "t, l, b, r = map(int, input().split())\n",
    "def FunctionName(mt2, n, m):\n",
    "    for i in range(n):\n",
    "        for j in range(m):\n",
    "            if i < t:\n",
    "                mt2[i][j]= 0\n",
    "            elif i >=t  and  i <= b :\n",
    "                if j < l or j>r:\n",
    "                    mt2[i][j]= 0\n",
    "            elif i > b :\n",
    "                mt2[i][j]= 0\n",
    "    return(mt2)\n",
    "mt2 = FunctionName(mt1, n , m)\n",
    "arr = ''\n",
    "for i in range(n):\n",
    "    for j in range(m):\n",
    "        arr = arr + str(mt2[i][j]) + ' '\n",
    "\n",
    "n2= 0\n",
    "n3 = m*2\n",
    "for j in range(n):\n",
    "    print(arr[n2:n3])\n",
    "    n2 = n3\n",
    "    n3 = n3 + m*2"
   ]
  },
  {
   "cell_type": "code",
   "execution_count": null,
   "metadata": {},
   "outputs": [],
   "source": [
    "mt3 =  [list(mt2[:,i]) for i in range(n)]\n",
    "mt3"
   ]
  }
 ],
 "metadata": {
  "interpreter": {
   "hash": "5c350f83c924fe9b17ac710590a882173009cafbaf0fffccd7f1e6b35b7e14ee"
  },
  "kernelspec": {
   "display_name": "Python 3.9.7 64-bit",
   "language": "python",
   "name": "python3"
  },
  "language_info": {
   "codemirror_mode": {
    "name": "ipython",
    "version": 3
   },
   "file_extension": ".py",
   "mimetype": "text/x-python",
   "name": "python",
   "nbconvert_exporter": "python",
   "pygments_lexer": "ipython3",
   "version": "3.9.7"
  },
  "orig_nbformat": 4
 },
 "nbformat": 4,
 "nbformat_minor": 2
}
